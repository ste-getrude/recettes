{
 "cells": [
  {
   "cell_type": "code",
   "execution_count": 1,
   "id": "7a052e83-adb8-47a9-9b3f-33ae0013fe5f",
   "metadata": {},
   "outputs": [],
   "source": [
    "from urllib.parse import urlparse\n",
    "\n",
    "from receipy_url.models import ReceipyUrl\n",
    "from receipy_url.common import comm_class\n",
    "from receipy_url.common.comm_class import WebSite\n",
    "from django import forms"
   ]
  },
  {
   "cell_type": "code",
   "execution_count": 2,
   "id": "f861d270-8d1e-4e94-8caa-5c6d0ed396fc",
   "metadata": {},
   "outputs": [],
   "source": [
    "url_obj = urlparse(\"https://www.ricardocuisine.com/recettes/8790-riz-brun-aux-lentilles-et-aux-oignons-caramelises\")\n",
    "url_obj = urlparse(\"https://cooking.nytimes.com/recipes/1015181-marcella-hazans-bolognese-sauce\")\n",
    "t = WebSite(url_obj)"
   ]
  },
  {
   "cell_type": "code",
   "execution_count": 3,
   "id": "af9e3e89-fe9b-42b9-86d5-e35516302844",
   "metadata": {},
   "outputs": [
    {
     "name": "stdout",
     "output_type": "stream",
     "text": [
      "Instantiating file path\n"
     ]
    }
   ],
   "source": [
    "t.get_scraping_factory().scrape_data()"
   ]
  },
  {
   "cell_type": "code",
   "execution_count": 7,
   "id": "86952c15-1010-4090-ad10-74a2e5e01a19",
   "metadata": {},
   "outputs": [
    {
     "data": {
      "text/plain": [
       "[{'Qty': '1',\n",
       "  'Unit': 'tablespoon',\n",
       "  'Ingredient_str': ['vegetable', 'oil'],\n",
       "  'Detail_str': None},\n",
       " {'Qty': '3',\n",
       "  'Unit': 'tablespoons',\n",
       "  'Ingredient_str': ['butter',\n",
       "   'plus',\n",
       "   '1',\n",
       "   'tablespoon',\n",
       "   'for',\n",
       "   'tossing',\n",
       "   'the',\n",
       "   'pasta'],\n",
       "  'Detail_str': None},\n",
       " {'Qty': '½',\n",
       "  'Unit': 'cup',\n",
       "  'Ingredient_str': ['chopped', 'onion'],\n",
       "  'Detail_str': None},\n",
       " {'Qty': '⅔',\n",
       "  'Unit': 'cup',\n",
       "  'Ingredient_str': ['chopped', 'celery'],\n",
       "  'Detail_str': None},\n",
       " {'Qty': '⅔',\n",
       "  'Unit': 'cup',\n",
       "  'Ingredient_str': ['chopped', 'carrot'],\n",
       "  'Detail_str': None},\n",
       " {'Qty': '¾',\n",
       "  'Unit': 'pound',\n",
       "  'Ingredient_str': ['ground', 'beef', 'chuck'],\n",
       "  'Detail_str': '(or you can use 1 part pork to 2 parts beef)'},\n",
       " {'Qty': '', 'Unit': None, 'Ingredient_str': ['Salt'], 'Detail_str': None},\n",
       " {'Qty': '',\n",
       "  'Unit': None,\n",
       "  'Ingredient_str': ['Black',\n",
       "   'pepper,',\n",
       "   'ground',\n",
       "   'fresh',\n",
       "   'from',\n",
       "   'the',\n",
       "   'mill'],\n",
       "  'Detail_str': None},\n",
       " {'Qty': '1',\n",
       "  'Unit': 'cup',\n",
       "  'Ingredient_str': ['whole', 'milk'],\n",
       "  'Detail_str': None},\n",
       " {'Qty': '',\n",
       "  'Unit': None,\n",
       "  'Ingredient_str': ['Whole', 'nutmeg'],\n",
       "  'Detail_str': None},\n",
       " {'Qty': '1',\n",
       "  'Unit': 'cup',\n",
       "  'Ingredient_str': ['dry', 'white', 'wine'],\n",
       "  'Detail_str': None},\n",
       " {'Qty': '1 ½',\n",
       "  'Unit': 'cups',\n",
       "  'Ingredient_str': ['canned',\n",
       "   'imported',\n",
       "   'Italian',\n",
       "   'plum',\n",
       "   'tomatoes,',\n",
       "   'cut',\n",
       "   'up,',\n",
       "   'with',\n",
       "   'their',\n",
       "   'juice'],\n",
       "  'Detail_str': None},\n",
       " {'Qty': '1 ¼ to 1 ½',\n",
       "  'Unit': 'pounds',\n",
       "  'Ingredient_str': ['pasta'],\n",
       "  'Detail_str': None},\n",
       " {'Qty': '',\n",
       "  'Unit': None,\n",
       "  'Ingredient_str': ['Freshly',\n",
       "   'grated',\n",
       "   'parmigiano-reggiano',\n",
       "   'cheese',\n",
       "   'at',\n",
       "   'the',\n",
       "   'table'],\n",
       "  'Detail_str': None}]"
      ]
     },
     "execution_count": 7,
     "metadata": {},
     "output_type": "execute_result"
    }
   ],
   "source": [
    "t.get_scraping_factory().get_ingredient_list_formated()"
   ]
  },
  {
   "cell_type": "code",
   "execution_count": null,
   "id": "6eee63c9-aa06-46ab-9323-e02e4c5c0420",
   "metadata": {},
   "outputs": [],
   "source": [
    "print(f)"
   ]
  },
  {
   "cell_type": "code",
   "execution_count": null,
   "id": "6e2bb63c-564e-43a8-b365-851fb741f784",
   "metadata": {},
   "outputs": [],
   "source": []
  }
 ],
 "metadata": {
  "kernelspec": {
   "display_name": "Django Shell-Plus",
   "language": "python",
   "name": "django_extensions"
  },
  "language_info": {
   "codemirror_mode": {
    "name": "ipython",
    "version": 3
   },
   "file_extension": ".py",
   "mimetype": "text/x-python",
   "name": "python",
   "nbconvert_exporter": "python",
   "pygments_lexer": "ipython3",
   "version": "3.9.2"
  }
 },
 "nbformat": 4,
 "nbformat_minor": 5
}
